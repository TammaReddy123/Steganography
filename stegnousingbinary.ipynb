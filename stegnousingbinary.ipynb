{
 "cells": [
  {
   "cell_type": "code",
   "execution_count": null,
   "id": "770a0898-c68e-46c9-b185-d5639c79fc63",
   "metadata": {},
   "outputs": [
    {
     "name": "stdout",
     "output_type": "stream",
     "text": [
      "Image Steganography\n",
      "1. Encode\n",
      "2. Decode\n",
      "3. Exit\n"
     ]
    },
    {
     "name": "stdin",
     "output_type": "stream",
     "text": [
      "Enter your choice:  1\n",
      "Enter the path of the image to encode:  pic.png\n",
      "Enter the data to hide:  hello\n",
      "Enter the output image path:  hi.png\n"
     ]
    },
    {
     "name": "stdout",
     "output_type": "stream",
     "text": [
      "Data encoded and saved to hi.png\n",
      "Image Steganography\n",
      "1. Encode\n",
      "2. Decode\n",
      "3. Exit\n"
     ]
    },
    {
     "name": "stdin",
     "output_type": "stream",
     "text": [
      "Enter your choice:  2\n",
      "Enter the path of the image to decode:  hi.png\n"
     ]
    },
    {
     "name": "stdout",
     "output_type": "stream",
     "text": [
      "Decoded data:  hello\n",
      "Image Steganography\n",
      "1. Encode\n",
      "2. Decode\n",
      "3. Exit\n"
     ]
    }
   ],
   "source": [
    "from PIL import Image\n",
    "import numpy as np\n",
    "\n",
    "def to_binary(data):\n",
    "    \"\"\"Convert data to binary format as string.\"\"\"\n",
    "    if isinstance(data, str):\n",
    "        return ''.join([format(ord(i), \"08b\") for i in data])\n",
    "    elif isinstance(data, bytes) or isinstance(data, np.ndarray):\n",
    "        return [format(i, \"08b\") for i in data]\n",
    "    elif isinstance(data, int) or isinstance(data, np.uint8):\n",
    "        return format(data, \"08b\")\n",
    "    else:\n",
    "        raise TypeError(\"Type not supported.\")\n",
    "\n",
    "def encode(image_path, secret_data, output_path):\n",
    "    \"\"\"Encode secret data into the image.\"\"\"\n",
    "    image = Image.open(image_path)\n",
    "    binary_secret_data = to_binary(secret_data)\n",
    "    binary_secret_data += '1111111111111110'  # Delimiter to signify end of data\n",
    "\n",
    "    data_index = 0\n",
    "    pixels = list(image.getdata())\n",
    "\n",
    "    for i in range(len(pixels)):\n",
    "        pixel = list(pixels[i])\n",
    "        for j in range(3):  # Iterate over RGB channels\n",
    "            if data_index < len(binary_secret_data):\n",
    "                pixel[j] = int(to_binary(pixel[j])[:-1] + binary_secret_data[data_index], 2)\n",
    "                data_index += 1\n",
    "        pixels[i] = tuple(pixel)\n",
    "        if data_index >= len(binary_secret_data):\n",
    "            break\n",
    "\n",
    "    image.putdata(pixels)\n",
    "    image.save(output_path)\n",
    "    print(f\"Data encoded and saved to {output_path}\")\n",
    "\n",
    "def decode(image_path):\n",
    "    \"\"\"Decode secret data from the image.\"\"\"\n",
    "    image = Image.open(image_path)\n",
    "    binary_data = \"\"\n",
    "    pixels = list(image.getdata())\n",
    "\n",
    "    for pixel in pixels:\n",
    "        for color in pixel[:3]:  # Iterate over RGB channels\n",
    "            binary_data += to_binary(color)[-1]\n",
    "\n",
    "    all_bytes = [binary_data[i: i+8] for i in range(0, len(binary_data), 8)]\n",
    "    decoded_data = \"\"\n",
    "    for byte in all_bytes:\n",
    "        decoded_data += chr(int(byte, 2))\n",
    "        if decoded_data[-2:] == '~~':  # Checking for the delimiter\n",
    "            break\n",
    "\n",
    "    print(\"Decoded data: \", decoded_data[:-2])  # Removing the delimiter\n",
    "\n",
    "def main():\n",
    "    while True:\n",
    "        print(\"Image Steganography\")\n",
    "        print(\"1. Encode\")\n",
    "        print(\"2. Decode\")\n",
    "        print(\"3. Exit\")\n",
    "        choice = input(\"Enter your choice: \")\n",
    "\n",
    "        if choice == '1':\n",
    "            image_path = input(\"Enter the path of the image to encode: \")\n",
    "            secret_data = input(\"Enter the data to hide: \") + \"~~\"  # Adding a delimiter\n",
    "            output_path = input(\"Enter the output image path: \")\n",
    "            encode(image_path, secret_data, output_path)\n",
    "        elif choice == '2':\n",
    "            image_path = input(\"Enter the path of the image to decode: \")\n",
    "            decode(image_path)\n",
    "        elif choice == '3':\n",
    "            break\n",
    "        else:\n",
    "            print(\"Invalid choice, please try again.\")\n",
    "\n",
    "if __name__ == \"__main__\":\n",
    "    main()"
   ]
  },
  {
   "cell_type": "code",
   "execution_count": null,
   "id": "8ecaa03b-b4c6-452c-9672-ee437bd24090",
   "metadata": {},
   "outputs": [],
   "source": []
  }
 ],
 "metadata": {
  "kernelspec": {
   "display_name": "Python 3 (ipykernel)",
   "language": "python",
   "name": "python3"
  },
  "language_info": {
   "codemirror_mode": {
    "name": "ipython",
    "version": 3
   },
   "file_extension": ".py",
   "mimetype": "text/x-python",
   "name": "python",
   "nbconvert_exporter": "python",
   "pygments_lexer": "ipython3",
   "version": "3.12.4"
  }
 },
 "nbformat": 4,
 "nbformat_minor": 5
}
